{
 "cells": [
  {
   "cell_type": "markdown",
   "id": "efe37db8-e31a-43b8-9311-8a0ff8a7f09e",
   "metadata": {},
   "source": [
    "# Coding practice: BB84\n",
    "BB84 is a quantum key distribution protocol developed by Charles ennett and Gilles Brassard in 1984. This protocol leverages the no-cloning theorem to securely communicate a private key given access to a quantum channel and a classical public channel. The protocol proceeds as follows:\n",
    "1. Alice wants to encode a binary message $a$ of length $n$. She randomly chooses a binary $b$, also of length $n$.\n",
    "2. Alice then porepares $n$ qubits according to the following rule: if $b_i = 0$ then the $i^\\text{th}$ qubit is prepared in $|0\\rangle$ or $|1\\rangle$ to encode the value of $a_i$. If $b_i = 1$, then the $i^\\text{th}$ qubit is prepared in the state $|+\\rangle$ or $|-\\rangle$ according to the value of $a_i$.\n",
    "3. Alice sends the qubits to Bob. Bob generates a random bitstring $b'$ and measures each qubit in the $X$ or $Z$ basis according to this bitstring.\n",
    "4. Bob then shares his bitstring $b'$ publicly. These two bitstrings randomly have $k$ bits in common. Alice pics a subset of $k/2$ of these bits and communicates this choice to Bob publicly.\n",
    "5. Bob shares the results of his $k/2$ measurements publicly. Alice cross-checks them and if all of them agree, then the other $k/2$ bits recieved become the shared private key.\n",
    "\n",
    "Eve is a third party trying to obtain the key. Eve makes measurements on the qubits, but with probability that increases exponentially with the number of qubits sent, her measurement basis will disagree where Alice's and Bob's agree. On average, half of these outcomes will give Bob a result that does not agree with Alice's encoded message, which will give away Eve's presence."
   ]
  },
  {
   "cell_type": "markdown",
   "id": "fdff8af5-3194-498f-a3f9-7c87b341884b",
   "metadata": {},
   "source": [
    "## Activity\n",
    "Code an implementation of the BB84 protocol in Qiskit. Below are some of the essential methods to help you get started."
   ]
  },
  {
   "cell_type": "code",
   "execution_count": 1,
   "id": "846b13fc-19f0-41e3-a0c8-563e3ca71acf",
   "metadata": {},
   "outputs": [
    {
     "ename": "ModuleNotFoundError",
     "evalue": "No module named 'qiskit'",
     "output_type": "error",
     "traceback": [
      "\u001b[0;31m---------------------------------------------------------------------------\u001b[0m",
      "\u001b[0;31mModuleNotFoundError\u001b[0m                       Traceback (most recent call last)",
      "Cell \u001b[0;32mIn[1], line 1\u001b[0m\n\u001b[0;32m----> 1\u001b[0m \u001b[38;5;28;01mimport\u001b[39;00m \u001b[38;5;21;01mqiskit\u001b[39;00m\n",
      "\u001b[0;31mModuleNotFoundError\u001b[0m: No module named 'qiskit'"
     ]
    }
   ],
   "source": [
    "import qiskit"
   ]
  },
  {
   "cell_type": "markdown",
   "id": "6736ea50-7e18-4b27-b508-8dd600e5b5f0",
   "metadata": {},
   "source": [
    "## A quantum workaround?\n",
    "Suppose Eve is a bit more clever than just making classical measurements, and decides instead to perform a CNOT gate on each of the qubits Alice sends. This leaves her qubits entangled with the qubits Bob recieved. After Bob makes his measurements, the state of Eve's qubits will depend on the result of Bob's measurements.\n",
    "\n",
    "Why is this not a viable strategy?"
   ]
  }
 ],
 "metadata": {
  "kernelspec": {
   "display_name": "Python 3 (ipykernel)",
   "language": "python",
   "name": "python3"
  },
  "language_info": {
   "codemirror_mode": {
    "name": "ipython",
    "version": 3
   },
   "file_extension": ".py",
   "mimetype": "text/x-python",
   "name": "python",
   "nbconvert_exporter": "python",
   "pygments_lexer": "ipython3",
   "version": "3.11.6"
  }
 },
 "nbformat": 4,
 "nbformat_minor": 5
}
